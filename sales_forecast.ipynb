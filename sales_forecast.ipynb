{
 "cells": [
  {
   "cell_type": "markdown",
   "metadata": {},
   "source": [
    "## Part 1: Get top-5 selling products"
   ]
  },
  {
   "cell_type": "code",
   "execution_count": 41,
   "metadata": {},
   "outputs": [
    {
     "name": "stdout",
     "output_type": "stream",
     "text": [
      "hist_raw_df =\n",
      "       Order ID                     Product Quantity Ordered Price Each      Order Date                        Purchase Address\n",
      "0        141234                      iPhone                1        700  01/22/19 21:25         944 Walnut St, Boston, MA 02215\n",
      "1        141235    Lightning Charging Cable                1      14.95  01/28/19 14:15        185 Maple St, Portland, OR 97035\n",
      "2        141236            Wired Headphones                2      11.99  01/17/19 13:33   538 Adams St, San Francisco, CA 94016\n",
      "3        141237            27in FHD Monitor                1     149.99  01/05/19 20:33      738 10th St, Los Angeles, CA 90001\n",
      "4        141238            Wired Headphones                1      11.99  01/25/19 11:59           387 10th St, Austin, TX 73301\n",
      "...         ...                         ...              ...        ...             ...                                     ...\n",
      "186845   319666    Lightning Charging Cable                1      14.95  12/11/19 20:58  14 Madison St, San Francisco, CA 94016\n",
      "186846   319667       AA Batteries (4-pack)                2       3.84  12/01/19 12:01    549 Willow St, Los Angeles, CA 90001\n",
      "186847   319668             Vareebadd Phone                1        400  12/09/19 06:43        273 Wilson St, Seattle, WA 98101\n",
      "186848   319669            Wired Headphones                1      11.99  12/03/19 10:39          778 River St, Dallas, TX 75001\n",
      "186849   319670  Bose SoundSport Headphones                1      99.99  12/21/19 21:45  747 Chestnut St, Los Angeles, CA 90001\n",
      "\n",
      "[186850 rows x 6 columns]\n"
     ]
    }
   ],
   "source": [
    "# read data\n",
    "\n",
    "import pandas as pd\n",
    "\n",
    "historical_demand_csv_path = (\n",
    "    \"C:/Users/hachatur/gd/scratch/sarang_forecast/product_demand.csv\"\n",
    ")\n",
    "hist_raw_df = pd.read_csv(historical_demand_csv_path)\n",
    "\n",
    "print(\"hist_raw_df =\")\n",
    "with pd.option_context(\"display.max_columns\", None, \"display.width\", 1000):\n",
    "    print(hist_raw_df)"
   ]
  },
  {
   "cell_type": "code",
   "execution_count": 42,
   "metadata": {},
   "outputs": [
    {
     "name": "stdout",
     "output_type": "stream",
     "text": [
      "hist_df =\n",
      "                 timestamp                     product  qty   price\n",
      "0      2019-01-22 21:25:00                      iPhone    1  700.00\n",
      "1      2019-01-28 14:15:00    Lightning Charging Cable    1   14.95\n",
      "2      2019-01-17 13:33:00            Wired Headphones    2   11.99\n",
      "3      2019-01-05 20:33:00            27in FHD Monitor    1  149.99\n",
      "4      2019-01-25 11:59:00            Wired Headphones    1   11.99\n",
      "...                    ...                         ...  ...     ...\n",
      "186845 2019-12-11 20:58:00    Lightning Charging Cable    1   14.95\n",
      "186846 2019-12-01 12:01:00       AA Batteries (4-pack)    2    3.84\n",
      "186847 2019-12-09 06:43:00             Vareebadd Phone    1  400.00\n",
      "186848 2019-12-03 10:39:00            Wired Headphones    1   11.99\n",
      "186849 2019-12-21 21:45:00  Bose SoundSport Headphones    1   99.99\n",
      "\n",
      "[185950 rows x 4 columns]\n"
     ]
    },
    {
     "data": {
      "text/plain": [
       "Text(0.5, 1.0, 'price histogram')"
      ]
     },
     "execution_count": 42,
     "metadata": {},
     "output_type": "execute_result"
    },
    {
     "data": {
      "image/png": "[encoded data removed]",
      "text/plain": [
       "<Figure size 600x200 with 1 Axes>"
      ]
     },
     "metadata": {},
     "output_type": "display_data"
    },
    {
     "data": {
      "image/png": "[encoded data removed]",
      "text/plain": [
       "<Figure size 600x200 with 1 Axes>"
      ]
     },
     "metadata": {},
     "output_type": "display_data"
    }
   ],
   "source": [
    "# clean data\n",
    "\n",
    "import matplotlib.pyplot as plt\n",
    "\n",
    "# format columns and drop nans\n",
    "hist_df = hist_raw_df[\n",
    "    [\"Order Date\", \"Product\", \"Quantity Ordered\", \"Price Each\"]\n",
    "].copy().rename(\n",
    "    columns={\n",
    "        \"Order Date\": \"timestamp\",\n",
    "        \"Product\": \"product\",\n",
    "        \"Quantity Ordered\": \"qty\",\n",
    "        \"Price Each\": \"price\",\n",
    "    }\n",
    ")\n",
    "hist_df[\"timestamp\"] = pd.to_datetime(hist_df[\"timestamp\"], format=\"%m/%d/%y %H:%M\", errors=\"coerce\")\n",
    "hist_df.dropna(inplace=True)\n",
    "hist_df[\"qty\"] = hist_df[\"qty\"].astype(int)\n",
    "hist_df[\"price\"] = hist_df[\"price\"].astype(float)\n",
    "hist_df.dropna(inplace=True)\n",
    "\n",
    "print(\"hist_df =\")\n",
    "with pd.option_context(\"display.max_columns\", None, \"display.width\", 1000):\n",
    "    print(hist_df)\n",
    "\n",
    "# plot histograms of price and quantity to check for outliers\n",
    "ax = hist_df[\"qty\"].hist(bins=20, ax=plt.subplots(figsize=(6, 2))[1])\n",
    "ax.set_title(\"qty histogram\")\n",
    "ax = hist_df[\"price\"].hist(bins=30, ax=plt.subplots(figsize=(6, 2))[1])\n",
    "ax.set_title(\"price histogram\")\n"
   ]
  },
  {
   "cell_type": "markdown",
   "metadata": {},
   "source": [
    "Outlier analysis observations\n",
    "* 'qty' and 'price' values look outlier-free; no negatives or absurdly large values\n",
    "* We will skip outlier removal at this stage"
   ]
  },
  {
   "cell_type": "code",
   "execution_count": 49,
   "metadata": {},
   "outputs": [
    {
     "name": "stdout",
     "output_type": "stream",
     "text": [
      "sales-revenue by product =\n",
      "product\n",
      "Macbook Pro Laptop            8037600.00\n",
      "iPhone                        4794300.00\n",
      "ThinkPad Laptop               4129958.70\n",
      "Google Phone                  3319200.00\n",
      "27in 4K Gaming Monitor        2435097.56\n",
      "34in Ultrawide Monitor        2355558.01\n",
      "Apple Airpods Headphones      2349150.00\n",
      "Flatscreen TV                 1445700.00\n",
      "Bose SoundSport Headphones    1345565.43\n",
      "27in FHD Monitor              1132424.50\n",
      "Vareebadd Phone                827200.00\n",
      "20in Monitor                   454148.71\n",
      "LG Washing Machine             399600.00\n",
      "LG Dryer                       387600.00\n",
      "Lightning Charging Cable       347094.15\n",
      "USB-C Charging Cable           286501.25\n",
      "Wired Headphones               246478.43\n",
      "AA Batteries (4-pack)          106118.40\n",
      "AAA Batteries (4-pack)          92740.83\n",
      "Name: revenue, dtype: float64\n",
      "\n",
      "top-5-revenue products = ['Macbook Pro Laptop', 'iPhone', 'ThinkPad Laptop', 'Google Phone', '27in 4K Gaming Monitor']\n"
     ]
    }
   ],
   "source": [
    "# get top-5 products by sales-revenue (sales dollar value)\n",
    "\n",
    "hist_df[\"revenue\"] = hist_df[\"qty\"] * hist_df[\"price\"]\n",
    "\n",
    "# group by product and sum revenue\n",
    "revenue_df = hist_df.groupby(\"product\")[\"revenue\"].sum().sort_values(\n",
    "    ascending=False\n",
    ")\n",
    "\n",
    "print(\"sales-revenue by product =\")\n",
    "print(revenue_df)\n",
    "\n",
    "# get top-5 products\n",
    "top_products = revenue_df.index[:5].to_list()\n",
    "\n",
    "print(f\"\\ntop-5-revenue products = {top_products}\")"
   ]
  },
  {
   "cell_type": "markdown",
   "metadata": {},
   "source": [
    "## Part 2: Forecast next-week demand of top-5 sellers"
   ]
  },
  {
   "cell_type": "code",
   "execution_count": null,
   "metadata": {},
   "outputs": [],
   "source": []
  }
 ],
 "metadata": {
  "kernelspec": {
   "display_name": "sales_forecast",
   "language": "python",
   "name": "python3"
  },
  "language_info": {
   "codemirror_mode": {
    "name": "ipython",
    "version": 3
   },
   "file_extension": ".py",
   "mimetype": "text/x-python",
   "name": "python",
   "nbconvert_exporter": "python",
   "pygments_lexer": "ipython3",
   "version": "3.12.9"
  }
 },
 "nbformat": 4,
 "nbformat_minor": 2
}
