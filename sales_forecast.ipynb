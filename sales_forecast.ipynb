{
 "cells": [
  {
   "cell_type": "markdown",
   "metadata": {},
   "source": [
    "## Part 1: Get top-5 selling products"
   ]
  },
  {
   "cell_type": "code",
   "execution_count": 3,
   "metadata": {},
   "outputs": [
    {
     "name": "stdout",
     "output_type": "stream",
     "text": [
      "hist_raw_df =\n",
      "       Order ID                     Product Quantity Ordered Price Each      Order Date                        Purchase Address\n",
      "0        141234                      iPhone                1        700  01/22/19 21:25         944 Walnut St, Boston, MA 02215\n",
      "1        141235    Lightning Charging Cable                1      14.95  01/28/19 14:15        185 Maple St, Portland, OR 97035\n",
      "2        141236            Wired Headphones                2      11.99  01/17/19 13:33   538 Adams St, San Francisco, CA 94016\n",
      "3        141237            27in FHD Monitor                1     149.99  01/05/19 20:33      738 10th St, Los Angeles, CA 90001\n",
      "4        141238            Wired Headphones                1      11.99  01/25/19 11:59           387 10th St, Austin, TX 73301\n",
      "...         ...                         ...              ...        ...             ...                                     ...\n",
      "186845   319666    Lightning Charging Cable                1      14.95  12/11/19 20:58  14 Madison St, San Francisco, CA 94016\n",
      "186846   319667       AA Batteries (4-pack)                2       3.84  12/01/19 12:01    549 Willow St, Los Angeles, CA 90001\n",
      "186847   319668             Vareebadd Phone                1        400  12/09/19 06:43        273 Wilson St, Seattle, WA 98101\n",
      "186848   319669            Wired Headphones                1      11.99  12/03/19 10:39          778 River St, Dallas, TX 75001\n",
      "186849   319670  Bose SoundSport Headphones                1      99.99  12/21/19 21:45  747 Chestnut St, Los Angeles, CA 90001\n",
      "\n",
      "[186850 rows x 6 columns]\n"
     ]
    }
   ],
   "source": [
    "# read data\n",
    "\n",
    "import pandas as pd\n",
    "\n",
    "historical_demand_csv_path = (\n",
    "    \"C:/Users/hachatur/gd/scratch/sarang_forecast/product_demand.csv\"\n",
    ")\n",
    "hist_raw_df = pd.read_csv(historical_demand_csv_path)\n",
    "\n",
    "print(\"hist_raw_df =\")\n",
    "with pd.option_context(\"display.max_columns\", None, \"display.width\", 1000):\n",
    "    print(hist_raw_df)"
   ]
  },
  {
   "cell_type": "code",
   "execution_count": 11,
   "metadata": {},
   "outputs": [
    {
     "data": {
      "text/plain": [
       "['Solarize_Light2',\n",
       " '_classic_test_patch',\n",
       " '_mpl-gallery',\n",
       " '_mpl-gallery-nogrid',\n",
       " 'bmh',\n",
       " 'classic',\n",
       " 'dark_background',\n",
       " 'fast',\n",
       " 'fivethirtyeight',\n",
       " 'ggplot',\n",
       " 'grayscale',\n",
       " 'petroff10',\n",
       " 'seaborn-v0_8',\n",
       " 'seaborn-v0_8-bright',\n",
       " 'seaborn-v0_8-colorblind',\n",
       " 'seaborn-v0_8-dark',\n",
       " 'seaborn-v0_8-dark-palette',\n",
       " 'seaborn-v0_8-darkgrid',\n",
       " 'seaborn-v0_8-deep',\n",
       " 'seaborn-v0_8-muted',\n",
       " 'seaborn-v0_8-notebook',\n",
       " 'seaborn-v0_8-paper',\n",
       " 'seaborn-v0_8-pastel',\n",
       " 'seaborn-v0_8-poster',\n",
       " 'seaborn-v0_8-talk',\n",
       " 'seaborn-v0_8-ticks',\n",
       " 'seaborn-v0_8-white',\n",
       " 'seaborn-v0_8-whitegrid',\n",
       " 'tableau-colorblind10']"
      ]
     },
     "execution_count": 11,
     "metadata": {},
     "output_type": "execute_result"
    }
   ],
   "source": [
    "plt.style.available"
   ]
  },
  {
   "cell_type": "code",
   "execution_count": null,
   "metadata": {},
   "outputs": [
    {
     "name": "stdout",
     "output_type": "stream",
     "text": [
      "hist_df =\n",
      "                 timestamp                     product  qty   price\n",
      "0      2019-01-22 21:25:00                      iPhone    1  700.00\n",
      "1      2019-01-28 14:15:00    Lightning Charging Cable    1   14.95\n",
      "2      2019-01-17 13:33:00            Wired Headphones    2   11.99\n",
      "3      2019-01-05 20:33:00            27in FHD Monitor    1  149.99\n",
      "4      2019-01-25 11:59:00            Wired Headphones    1   11.99\n",
      "...                    ...                         ...  ...     ...\n",
      "186845 2019-12-11 20:58:00    Lightning Charging Cable    1   14.95\n",
      "186846 2019-12-01 12:01:00       AA Batteries (4-pack)    2    3.84\n",
      "186847 2019-12-09 06:43:00             Vareebadd Phone    1  400.00\n",
      "186848 2019-12-03 10:39:00            Wired Headphones    1   11.99\n",
      "186849 2019-12-21 21:45:00  Bose SoundSport Headphones    1   99.99\n",
      "\n",
      "[185950 rows x 4 columns]\n"
     ]
    },
    {
     "data": {
      "text/plain": [
       "Text(0.5, 1.0, 'price histogram')"
      ]
     },
     "execution_count": 22,
     "metadata": {},
     "output_type": "execute_result"
    },
    {
     "data": {
      "image/png": "[encoded data removed]",
      "text/plain": [
       "<Figure size 600x200 with 1 Axes>"
      ]
     },
     "metadata": {},
     "output_type": "display_data"
    }
   ],
   "source": [
    "# clean data\n",
    "\n",
    "import matplotlib.pyplot as plt\n",
    "\n",
    "# set seaborn style for plots\n",
    "plt.style.use(\"ggplot\")\n",
    "\n",
    "# format columns and drop nans\n",
    "hist_df = hist_raw_df[\n",
    "    [\"Order Date\", \"Product\", \"Quantity Ordered\", \"Price Each\"]\n",
    "].copy().rename(\n",
    "    columns={\n",
    "        \"Order Date\": \"timestamp\",\n",
    "        \"Product\": \"product\",\n",
    "        \"Quantity Ordered\": \"qty\",\n",
    "        \"Price Each\": \"price\",\n",
    "    }\n",
    ")\n",
    "hist_df[\"timestamp\"] = pd.to_datetime(hist_df[\"timestamp\"], format=\"%m/%d/%y %H:%M\", errors=\"coerce\")\n",
    "hist_df.dropna(inplace=True)\n",
    "hist_df[\"qty\"] = hist_df[\"qty\"].astype(int)\n",
    "hist_df[\"price\"] = hist_df[\"price\"].astype(float)\n",
    "hist_df.dropna(inplace=True)\n",
    "\n",
    "print(\"hist_df =\")\n",
    "with pd.option_context(\"display.max_columns\", None, \"display.width\", 1000):\n",
    "    print(hist_df)\n",
    "\n",
    "# plot histograms of price and quantity to check for outliers\n",
    "ax = hist_df[\"qty\"].hist(bins=20, ax=plt.subplots(figsize=(6, 2))[1])\n",
    "ax.set_title(\"qty histogram\")\n",
    "ax = hist_df[\"price\"].hist(bins=30, ax=plt.subplots(figsize=(6, 2))[1])\n",
    "ax.set_title(\"price histogram\")\n"
   ]
  },
  {
   "cell_type": "markdown",
   "metadata": {},
   "source": [
    "Outlier analysis observations\n",
    "* 'qty' and 'price' values look outlier-free; no negatives or absurdly large values\n",
    "* We will skip outlier removal at this stage"
   ]
  },
  {
   "cell_type": "code",
   "execution_count": null,
   "metadata": {},
   "outputs": [
    {
     "name": "stdout",
     "output_type": "stream",
     "text": [
      "\n",
      "top-5-revenue products = ['Macbook Pro Laptop', 'iPhone', 'ThinkPad Laptop', 'Google Phone', '27in 4K Gaming Monitor']\n"
     ]
    },
    {
     "data": {
      "image/png": "[encoded data removed]",
      "text/plain": [
       "<Figure size 600x150 with 1 Axes>"
      ]
     },
     "metadata": {},
     "output_type": "display_data"
    }
   ],
   "source": [
    "# get top-5 products by sales-revenue (sales dollar value)\n",
    "\n",
    "hist_df[\"revenue\"] = hist_df[\"qty\"] * hist_df[\"price\"]\n",
    "\n",
    "# group by product and sum revenue\n",
    "revenue_ser = hist_df.groupby(\"product\")[\"revenue\"].sum().sort_values(\n",
    "    ascending=False\n",
    ")\n",
    "\n",
    "ax = revenue_ser.plot(kind=\"bar\", ax=plt.subplots(figsize=(6, 1.5))[1])\n",
    "ax.set_title(\"sales-revenue by product\")\n",
    "\n",
    "# get top-5 products\n",
    "top_products = revenue_ser.index[:5].to_list()\n",
    "\n",
    "print(f\"\\ntop-5-revenue products = {top_products}\")"
   ]
  },
  {
   "cell_type": "markdown",
   "metadata": {},
   "source": [
    "## Part 2: Forecast next-week demand of top-5 sellers"
   ]
  },
  {
   "cell_type": "code",
   "execution_count": null,
   "metadata": {},
   "outputs": [
    {
     "name": "stdout",
     "output_type": "stream",
     "text": [
      "             qty\n",
      "week_number     \n",
      "-52           71\n",
      "-51           84\n",
      "-50           77\n",
      "-49          105\n",
      "-48          118\n",
      "-47          118\n",
      "-46          108\n",
      "-45           96\n",
      "-44          107\n",
      "-43          124\n",
      "-42          116\n",
      "-41          122\n",
      "-40          141\n",
      "-39          165\n",
      "-38          180\n",
      "-37          158\n",
      "-36          143\n",
      "-35          129\n",
      "-34          154\n",
      "-33          148\n",
      "-32          144\n",
      "-31          136\n",
      "-30          116\n",
      "-29          122\n",
      "-28          136\n",
      "-27          122\n",
      "-26          123\n",
      "-25          101\n",
      "-24          113\n",
      "-23          116\n",
      "-22          118\n",
      "-21           96\n",
      "-20           94\n",
      "-19           94\n",
      "-18           81\n",
      "-17           86\n",
      "-16          104\n",
      "-15           97\n",
      "-14          105\n",
      "-13          166\n",
      "-12          149\n",
      "-11          155\n",
      "-10          174\n",
      "-9           166\n",
      "-8           141\n",
      "-7           137\n",
      "-6           181\n",
      "-5           162\n",
      "-4           220\n",
      "-3           216\n",
      "-2           212\n",
      "-1           184\n"
     ]
    },
    {
     "data": {
      "text/plain": [
       "{'demand': 0,\n",
       " 'validation_error_wmape_pct': 100,\n",
       " 'validation_df': Empty DataFrame\n",
       " Columns: []\n",
       " Index: []}"
      ]
     },
     "execution_count": 53,
     "metadata": {},
     "output_type": "execute_result"
    }
   ],
   "source": [
    "import numpy as np\n",
    "from darts\n",
    "\n",
    "class ProductDemandPredictor:\n",
    "    def __init__(\n",
    "        self, \n",
    "        product_name: str,\n",
    "        compute_validation_error: bool=True\n",
    "    ):\n",
    "        self.product_name = product_name\n",
    "        self.compute_validation_error = compute_validation_error\n",
    "\n",
    "    def fit(\n",
    "        self,\n",
    "        all_products_demand_df: pd.DataFrame,\n",
    "        forecast_starttime: str | pd.Timestamp,\n",
    "    ):\n",
    "        # get demand history for product: hist_prodt_df\n",
    "        # * we discard sales after forecast_starttime\n",
    "        hist_prodt_df = all_products_demand_df[\n",
    "            (all_products_demand_df[\"product\"] == self.product_name)\n",
    "            & (all_products_demand_df[\"timestamp\"] <= forecast_starttime)\n",
    "        ].copy()\n",
    "\n",
    "        # compute a week_number for each sale\n",
    "        # * note that we want \n",
    "        #   * week_number for the forecasted week to be 0\n",
    "        #   * week_number to increase with time\n",
    "        # * so week_number will be negative for sales before forecast_starttime\n",
    "        hist_prodt_df[\"weeks_to_forecast\"] = (\n",
    "            forecast_starttime - hist_prodt_df[\"timestamp\"]\n",
    "        ) / pd.to_timedelta(\"7d\")\n",
    "        hist_prodt_df[\"week_number\"] = -(\n",
    "            hist_prodt_df[\"weeks_to_forecast\"].apply(np.ceil).astype(int)\n",
    "        )\n",
    "\n",
    "        # compute weekly demand: hist_weekly_df\n",
    "        # * fill any missing weeks with 0 qty\n",
    "        # * drop earliest week due to potential incomplete data\n",
    "        qty_weekly_df = (\n",
    "            hist_prodt_df.groupby(\"week_number\")\n",
    "            .agg({\"qty\": \"sum\"})\n",
    "        )\n",
    "        qty_weekly_df = qty_weekly_df.reindex(\n",
    "            range(qty_weekly_df.index.min(), 0), fill_value=0\n",
    "        )\n",
    "        qty_weekly_df = qty_weekly_df.iloc[1:None]\n",
    "        \n",
    "        # \n",
    "\n",
    "\n",
    "    def predict(self):\n",
    "        \"\"\"Predict next-week demand for the product\"\"\"\n",
    "\n",
    "        # init result\n",
    "        result = {\n",
    "            \"demand\": 0,\n",
    "            \"validation_error_wmape_pct\": 100,\n",
    "            \"validation_df\": pd.DataFrame(),\n",
    "        }\n",
    "\n",
    "        return result\n",
    "\n",
    "# example usage\n",
    "product_name = 'iPhone'\n",
    "forecast_starttime = hist_df[\"timestamp\"].max().floor(\"D\")\n",
    "demand_predictor = ProductDemandPredictor(product_name)\n",
    "demand_predictor.fit(hist_df, forecast_starttime)\n",
    "demand_predictor.predict()"
   ]
  },
  {
   "cell_type": "code",
   "execution_count": 43,
   "metadata": {},
   "outputs": [
    {
     "data": {
      "text/plain": [
       "Timestamp('2020-01-01 00:00:00')"
      ]
     },
     "execution_count": 43,
     "metadata": {},
     "output_type": "execute_result"
    }
   ],
   "source": [
    "forecast_starttime"
   ]
  }
 ],
 "metadata": {
  "kernelspec": {
   "display_name": "sales_forecast",
   "language": "python",
   "name": "python3"
  },
  "language_info": {
   "codemirror_mode": {
    "name": "ipython",
    "version": 3
   },
   "file_extension": ".py",
   "mimetype": "text/x-python",
   "name": "python",
   "nbconvert_exporter": "python",
   "pygments_lexer": "ipython3",
   "version": "3.12.9"
  }
 },
 "nbformat": 4,
 "nbformat_minor": 2
}
